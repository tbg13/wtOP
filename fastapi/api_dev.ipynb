{
 "cells": [
  {
   "cell_type": "code",
   "execution_count": 3,
   "metadata": {},
   "outputs": [],
   "source": [
    "from fastapi import FastAPI, Path, HTTPException\n",
    "from typing import Optional\n",
    "\n",
    "from pydantic import BaseModel\n",
    "import json\n",
    "\n",
    "from api_meta import Character, fill_character_class, path_to_characters_json, load_json\n",
    "    \n",
    "from fastapi import FastAPI, Path, HTTPException\n",
    "from typing import Optional\n",
    "\n",
    "from pydantic import BaseModel\n",
    "\n",
    "from datetime import datetime\n",
    "\n",
    "import json\n"
   ]
  },
  {
   "cell_type": "code",
   "execution_count": 8,
   "metadata": {},
   "outputs": [],
   "source": [
    "#META\n",
    "path_to_characters_json = '/scrap/data'\n",
    "\n",
    "class Character(BaseModel):\n",
    "    character_name: str\n",
    "    overview: Optional[dict] = None\n",
    "    details: Optional[dict] = None\n",
    "    last_updated: datetime\n",
    "\n",
    "def load_json(file_path: str):\n",
    "    with open(file_path, 'r') as file:\n",
    "        return json.load(file)\n",
    "\n",
    "def fill_character_class(name, character_data):\n",
    "    character_info = character_data[name]\n",
    "    \n",
    "    character = Character(\n",
    "        character_name = name\n",
    "        , character_overview = character_info['character']['overview']\n",
    "        , character_details = character_info['character']['details']\n",
    "    )\n",
    "    \n",
    "    return character\n",
    "        \n",
    "    "
   ]
  },
  {
   "cell_type": "code",
   "execution_count": 6,
   "metadata": {},
   "outputs": [
    {
     "data": {
      "text/plain": [
       "'/app/scrap/data/latest_characters.json'"
      ]
     },
     "execution_count": 6,
     "metadata": {},
     "output_type": "execute_result"
    }
   ],
   "source": [
    "\n",
    "f'{path_to_characters_json}/latest_characters.json'"
   ]
  },
  {
   "cell_type": "code",
   "execution_count": 5,
   "metadata": {},
   "outputs": [
    {
     "ename": "FileNotFoundError",
     "evalue": "[Errno 2] No such file or directory: '/app/scrap/data/latest_characters.json'",
     "output_type": "error",
     "traceback": [
      "\u001b[1;31m---------------------------------------------------------------------------\u001b[0m",
      "\u001b[1;31mFileNotFoundError\u001b[0m                         Traceback (most recent call last)",
      "\u001b[1;32m~\\AppData\\Local\\Temp\\ipykernel_5752\\2087214345.py\u001b[0m in \u001b[0;36m<module>\u001b[1;34m\u001b[0m\n\u001b[0;32m      1\u001b[0m \u001b[1;31m#MAIN\u001b[0m\u001b[1;33m\u001b[0m\u001b[1;33m\u001b[0m\u001b[0m\n\u001b[1;32m----> 2\u001b[1;33m \u001b[1;32mwith\u001b[0m \u001b[0mopen\u001b[0m\u001b[1;33m(\u001b[0m\u001b[1;34mf'{path_to_characters_json}/latest_characters.json'\u001b[0m\u001b[1;33m,\u001b[0m \u001b[1;34m'r'\u001b[0m\u001b[1;33m)\u001b[0m \u001b[1;32mas\u001b[0m \u001b[0mfile\u001b[0m\u001b[1;33m:\u001b[0m\u001b[1;33m\u001b[0m\u001b[1;33m\u001b[0m\u001b[0m\n\u001b[0m\u001b[0;32m      3\u001b[0m     \u001b[0mcharacter_data\u001b[0m \u001b[1;33m=\u001b[0m \u001b[0mjson\u001b[0m\u001b[1;33m.\u001b[0m\u001b[0mload\u001b[0m\u001b[1;33m(\u001b[0m\u001b[0mfile\u001b[0m\u001b[1;33m)\u001b[0m\u001b[1;33m\u001b[0m\u001b[1;33m\u001b[0m\u001b[0m\n\u001b[0;32m      4\u001b[0m \u001b[1;33m\u001b[0m\u001b[0m\n\u001b[0;32m      5\u001b[0m \u001b[1;32mdef\u001b[0m \u001b[0mcreate_character\u001b[0m\u001b[1;33m(\u001b[0m\u001b[0mcharacter_names\u001b[0m\u001b[1;33m:\u001b[0m \u001b[0mstr\u001b[0m\u001b[1;33m,\u001b[0m \u001b[0mcharacter_data\u001b[0m\u001b[1;33m)\u001b[0m\u001b[1;33m:\u001b[0m\u001b[1;33m\u001b[0m\u001b[1;33m\u001b[0m\u001b[0m\n",
      "\u001b[1;31mFileNotFoundError\u001b[0m: [Errno 2] No such file or directory: '/app/scrap/data/latest_characters.json'"
     ]
    }
   ],
   "source": [
    "#MAIN\n",
    "with open(f'{path_to_characters_json}/latest_characters.json', 'r') as file:\n",
    "    character_data = json.load(file)\n",
    "\n",
    "def create_character(character_names: str, character_data):\n",
    "    character_names_list = character_names.split('&')\n",
    "    characters = []\n",
    "    \n",
    "    load_json(f'{path_to_characters_json}/latest_characters.json')\n",
    "    \n",
    "    for name in character_names_list:\n",
    "        character = fill_character_class(name, character_data)\n",
    "        characters.append(character)\n",
    "    \n",
    "    return {'This is the info you want', characters}\n",
    "\n",
    "\n"
   ]
  }
 ],
 "metadata": {
  "kernelspec": {
   "display_name": "pypr",
   "language": "python",
   "name": "pypr"
  },
  "language_info": {
   "codemirror_mode": {
    "name": "ipython",
    "version": 3
   },
   "file_extension": ".py",
   "mimetype": "text/x-python",
   "name": "python",
   "nbconvert_exporter": "python",
   "pygments_lexer": "ipython3",
   "version": "3.9.13"
  }
 },
 "nbformat": 4,
 "nbformat_minor": 2
}
