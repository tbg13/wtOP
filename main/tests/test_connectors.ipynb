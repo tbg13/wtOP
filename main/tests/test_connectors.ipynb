{
 "cells": [
  {
   "cell_type": "code",
   "execution_count": null,
   "metadata": {},
   "outputs": [],
   "source": [
    "pip install minio"
   ]
  },
  {
   "cell_type": "code",
   "execution_count": 29,
   "metadata": {},
   "outputs": [],
   "source": [
    "class StorageInterface:\n",
    "    def upload(self, source, destination):\n",
    "        return NotImplementedError('Method should be overridden by subclass')\n",
    "    \n",
    "    def download(self, source, destination):\n",
    "        return NotImplementedError('Method should be overridden by subclass')\n",
    "    \n",
    "    def list_files(self, directory):\n",
    "        return NotImplementedError('Method should be overridden by subclass')\n",
    "    \n",
    "    def delete(self, file_path):\n",
    "        return NotImplementedError('Method should be overridden by subclass')    \n",
    "  \n",
    "\n",
    "from minio import Minio\n",
    "\n",
    "class MinIOStorage(StorageInterface):\n",
    "    def __init__(self, endpoint, access_key, secret_key, bucket_name):\n",
    "        self.client = Minio(endpoint, access_key, secret_key, secure=False)\n",
    "        self.bucket_name = bucket_name\n",
    "        self.helper_check_bucket(bucket_name)\n",
    "        \n",
    "    def helper_check_bucket(self, bucket_name):\n",
    "        \"\"\"Helper function to check if the target bucket exists. If not, create it.\"\"\"\n",
    "        bucket_exists = self.client.bucket_exists(bucket_name)\n",
    "        if not bucket_exists:\n",
    "            self.client.make_bucket(bucket_name)\n",
    "            print(f'Bucket {bucket_name} created.')\n",
    "        else:\n",
    "            print(f'Bucket {bucket_name} already exists.')\n",
    "        \n",
    "    \n",
    "    def upload(self, local_file_path, object_name):\n",
    "        \"\"\"Uploads a file to MinIO.\"\"\"\n",
    "        self.client.fput_object(self.bucket_name, object_name, local_file_path)\n",
    "        print(f\"{local_file_path} successfully uploaded to bucket {self.bucket_name} as {object_name}\")\n",
    "\n",
    "    def download(self, object_name, local_file_path):\n",
    "        \"\"\"Downloads a file from MinIO.\"\"\"\n",
    "        self.client.fget_object(self.bucket_name, object_name, local_file_path)\n",
    "        print(f\"{object_name} successfully downloaded from bucket {self.bucket_name} to {local_file_path}\")\n",
    "\n",
    "    def list_files(self, prefix):\n",
    "        \"\"\"Lists files in a MinIO bucket with a specific prefix.\"\"\"\n",
    "        objects = self.client.list_objects(self.bucket_name, prefix=prefix)\n",
    "        return [obj.object_name for obj in objects]\n",
    "\n",
    "    def delete(self, object_name):\n",
    "        \"\"\"Deletes a file from MinIO.\"\"\"\n",
    "        self.client.remove_object(self.bucket_name, object_name)\n",
    "        print(f\"{object_name} successfully deleted from bucket {self.bucket_name}\")\n",
    "        "
   ]
  },
  {
   "cell_type": "code",
   "execution_count": 30,
   "metadata": {},
   "outputs": [
    {
     "name": "stdout",
     "output_type": "stream",
     "text": [
      "Bucket test-bucket already exists.\n"
     ]
    }
   ],
   "source": [
    "import os\n",
    "import minio\n",
    "\n",
    "# Credentials and endpoints\n",
    "endpoint = \"localhost:9000\"\n",
    "access_key = \"minioadmin\"\n",
    "secret_key = \"minioadmin\"\n",
    "bucket_name = \"test-bucket\"\n",
    "\n",
    "minio_storage = MinIOStorage(endpoint, access_key, secret_key, bucket_name)\n"
   ]
  },
  {
   "cell_type": "code",
   "execution_count": 34,
   "metadata": {},
   "outputs": [
    {
     "name": "stdout",
     "output_type": "stream",
     "text": [
      "These are the files in test-bucket: []\n"
     ]
    }
   ],
   "source": [
    "source_file = \"test_file.txt\"\n",
    "destination_path = \"../minio/test-bucket/test_file.txt\"\n",
    "downloaded_file_path = \"downloaded_test_file.txt\"\n",
    "\n",
    "\n",
    "# Create test file\n",
    "with open(source_file, 'w') as f:\n",
    "    f.write('This is a test file to test the minio connector :) !')\n",
    "\n",
    "\n",
    "# Test list\n",
    "files = minio_storage.list_files(bucket_name)\n",
    "print (f\"These are the files in {bucket_name}:\", files)\n",
    "\n",
    "#TODO: Minio creates bucket in its own backend instead of using local directories!\n",
    "    "
   ]
  },
  {
   "cell_type": "code",
   "execution_count": null,
   "metadata": {},
   "outputs": [],
   "source": [
    "\n",
    "# Test download\n",
    "minio_storage.download(source_file, destination_path)\n",
    "\n",
    "# Verify download\n",
    "\n",
    "\n",
    "# Test delete to clean\n",
    "\n",
    "# Clean test bucket"
   ]
  }
 ],
 "metadata": {
  "kernelspec": {
   "display_name": "pypr",
   "language": "python",
   "name": "pypr"
  },
  "language_info": {
   "codemirror_mode": {
    "name": "ipython",
    "version": 3
   },
   "file_extension": ".py",
   "mimetype": "text/x-python",
   "name": "python",
   "nbconvert_exporter": "python",
   "pygments_lexer": "ipython3",
   "version": "3.9.13"
  }
 },
 "nbformat": 4,
 "nbformat_minor": 2
}
