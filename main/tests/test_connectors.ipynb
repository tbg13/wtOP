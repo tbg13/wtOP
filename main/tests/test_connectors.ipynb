{
 "cells": [
  {
   "cell_type": "code",
   "execution_count": null,
   "metadata": {},
   "outputs": [],
   "source": [
    "import os \n",
    "from connectors.storage_connectors import MinIOStorage\n",
    "\n",
    "# Credentials and endpoints\n",
    "endpoint = \"http://localhost:9000\"\n",
    "access_key = \"minioadmin\"\n",
    "secret_key = \"minioadmin\"\n",
    "\n",
    "bucket_name = \"test_bucket\"\n",
    "source_file = \"test_file.txt\"\n",
    "destination_path = \"test/test_file.txt\"\n",
    "\n",
    "\n",
    "minio_storage = MinIOStorage(endpoint, access_key, secret_key)\n",
    "\n",
    "# Create test file\n",
    "with open(source_file, 'w') as f:\n",
    "    f.write('This is a test file to test the minio connector :)')\n",
    "    \n",
    "# Test upload\n",
    "minio_storage.upload(local_file_path=source_file, bucket_name=bucket_name, object_name=destination_path)\n",
    "\n",
    "\n",
    "# Test list\n",
    "\n",
    "# Test download\n",
    "\n",
    "# Test delete to clean\n",
    "\n",
    "# Clean test bucket\n",
    "    \n",
    "    "
   ]
  }
 ],
 "metadata": {
  "language_info": {
   "name": "python"
  }
 },
 "nbformat": 4,
 "nbformat_minor": 2
}
