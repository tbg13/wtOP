{
 "cells": [
  {
   "cell_type": "code",
   "execution_count": 3,
   "metadata": {},
   "outputs": [
    {
     "name": "stdout",
     "output_type": "stream",
     "text": [
      "Requirement already satisfied: requests in c:\\users\\compt\\anaconda3\\envs\\pypr\\lib\\site-packages (2.28.1)\n",
      "Requirement already satisfied: html5lib in c:\\users\\compt\\anaconda3\\envs\\pypr\\lib\\site-packages (1.1)\n",
      "Collecting bs4\n",
      "  Downloading bs4-0.0.2-py2.py3-none-any.whl (1.2 kB)\n",
      "Requirement already satisfied: urllib3<1.27,>=1.21.1 in c:\\users\\compt\\anaconda3\\envs\\pypr\\lib\\site-packages (from requests) (1.26.11)\n",
      "Requirement already satisfied: certifi>=2017.4.17 in c:\\users\\compt\\anaconda3\\envs\\pypr\\lib\\site-packages (from requests) (2022.12.7)\n",
      "Requirement already satisfied: idna<4,>=2.5 in c:\\users\\compt\\anaconda3\\envs\\pypr\\lib\\site-packages (from requests) (3.3)\n",
      "Requirement already satisfied: charset-normalizer<3,>=2 in c:\\users\\compt\\anaconda3\\envs\\pypr\\lib\\site-packages (from requests) (2.0.4)\n",
      "Requirement already satisfied: six>=1.9 in c:\\users\\compt\\anaconda3\\envs\\pypr\\lib\\site-packages (from html5lib) (1.16.0)\n",
      "Requirement already satisfied: webencodings in c:\\users\\compt\\anaconda3\\envs\\pypr\\lib\\site-packages (from html5lib) (0.5.1)\n",
      "Requirement already satisfied: beautifulsoup4 in c:\\users\\compt\\anaconda3\\envs\\pypr\\lib\\site-packages (from bs4) (4.11.1)\n",
      "Requirement already satisfied: soupsieve>1.2 in c:\\users\\compt\\anaconda3\\envs\\pypr\\lib\\site-packages (from beautifulsoup4->bs4) (2.3.1)\n",
      "Installing collected packages: bs4\n",
      "Successfully installed bs4-0.0.2\n",
      "Note: you may need to restart the kernel to use updated packages.\n"
     ]
    }
   ],
   "source": [
    "pip install requests html5lib bs4 re"
   ]
  },
  {
   "cell_type": "code",
   "execution_count": 14,
   "metadata": {},
   "outputs": [
    {
     "name": "stdout",
     "output_type": "stream",
     "text": [
      "Note: you may need to restart the kernel to use updated packages.\n"
     ]
    },
    {
     "name": "stderr",
     "output_type": "stream",
     "text": [
      "ERROR: Could not find a version that satisfies the requirement re (from versions: none)\n",
      "ERROR: No matching distribution found for re\n"
     ]
    }
   ],
   "source": [
    "pip install re"
   ]
  },
  {
   "cell_type": "markdown",
   "metadata": {},
   "source": [
    "## Characters"
   ]
  },
  {
   "cell_type": "code",
   "execution_count": 15,
   "metadata": {},
   "outputs": [],
   "source": [
    "### Workflow\n",
    "import requests \n",
    "from bs4 import BeautifulSoup \n",
    "import re\n",
    "\n",
    "## A) Scrape https://onepiece.fandom.com/wiki/List_of_Canon_Characters for list of links towards all canon characters\n",
    "\n",
    "## B) Get rid of the fluff and save the html output for caching purposes (no overloading)\n",
    "\n",
    "## C) Scrape page as json based on Content\n",
    "### 1 Appearance\n",
    "### 2 Personality\n",
    "### 3 Abilities and Powers | Abilities | Power\n",
    "### 4 History\n",
    "### 5 References\n",
    "\n",
    "## C) Scrape for the Statistics and Devil Fruit informations (pi-items)\n",
    "\n",
    "#Test run with Alpaca"
   ]
  },
  {
   "cell_type": "code",
   "execution_count": 8,
   "metadata": {},
   "outputs": [
    {
     "name": "stdout",
     "output_type": "stream",
     "text": [
      "<div class=\"notifications-placeholder\">\n",
      "\t\t\t\t<div class=\"banner-notifications-placeholder\">\n",
      "\t\t\t<div class=\"wds-banner-notification__container\">\n",
      "\t\n",
      "</div>\n",
      "\t\t</div>\n",
      "\t</div>\n",
      "https://onepiece.fandom.com/wiki/Alpacaman\n"
     ]
    }
   ],
   "source": [
    "charac_name = \"Alpacaman\"\n",
    "charac_url = f\"https://onepiece.fandom.com/wiki/{charac_name}\"\n",
    "\n",
    "r = requests.get(charac_url) \n",
    "soup = BeautifulSoup(r.content, 'html5lib')\n",
    "\n",
    "print(soup.div)\n",
    "print(charac_url)\n",
    "# Add some logging / wait time"
   ]
  },
  {
   "cell_type": "code",
   "execution_count": 85,
   "metadata": {},
   "outputs": [
    {
     "data": {
      "text/plain": [
       "[{'name': 'Appearance', 'children': []},\n",
       " {'name': 'Personality', 'children': []},\n",
       " {'name': 'Abilities and Powers',\n",
       "  'children': [{'name': 'Devil Fruit',\n",
       "    'children': [{'name': 'Anime-Only Techniques', 'children': []}]},\n",
       "   {'name': 'Weapons', 'children': []},\n",
       "   {'name': 'Haki', 'children': []}]},\n",
       " {'name': 'History',\n",
       "  'children': [{'name': 'Wano Country Arc', 'children': []}]},\n",
       " {'name': 'Major Battles', 'children': []},\n",
       " {'name': 'Trivia', 'children': []},\n",
       " {'name': 'References', 'children': []},\n",
       " {'name': 'Site Navigation', 'children': []}]"
      ]
     },
     "execution_count": 85,
     "metadata": {},
     "output_type": "execute_result"
    }
   ],
   "source": [
    "toc_pattern = re.compile(r'toclevel-1.*')\n",
    "tocs = soup.find_all(\"li\", class_=toc_pattern)\n",
    "\n",
    "def toc_to_json(tocs):\n",
    "    \"\"\"\n",
    "    Scrap table of content and returns a json.\n",
    "\n",
    "    Args:\n",
    "        tocs (str): html soup of table of contents, filtered through class patterns\n",
    "\n",
    "    Returns:\n",
    "        json\n",
    "        \n",
    "    Remarks:\n",
    "        #find_all recursive=False to only consider direct children and avoid dup entries with nested children\n",
    "\n",
    "    \"\"\"\n",
    "    \n",
    "    toc_data = []\n",
    "    for li in tocs:\n",
    "        entry = {\n",
    "            'name': li.find('span', class_='toctext').get_text(),\n",
    "            'children': toc_to_json(li.find('ul').find_all('li', recursive=False) if li.find('ul') else []) #recursive bs\n",
    "        }\n",
    "        toc_data.append(entry)\n",
    "    return toc_data\n",
    "\n",
    "toc_data = toc_to_json(tocs)\n",
    "toc_data\n",
    "#tocs\n"
   ]
  },
  {
   "cell_type": "code",
   "execution_count": 148,
   "metadata": {},
   "outputs": [
    {
     "ename": "AttributeError",
     "evalue": "'str' object has no attribute 'descendants'",
     "output_type": "error",
     "traceback": [
      "\u001b[1;31m---------------------------------------------------------------------------\u001b[0m",
      "\u001b[1;31mAttributeError\u001b[0m                            Traceback (most recent call last)",
      "\u001b[1;32m~\\AppData\\Local\\Temp\\ipykernel_8432\\3320754512.py\u001b[0m in \u001b[0;36m<module>\u001b[1;34m\u001b[0m\n\u001b[0;32m     37\u001b[0m \u001b[1;33m\u001b[0m\u001b[0m\n\u001b[0;32m     38\u001b[0m \u001b[0mcontent\u001b[0m \u001b[1;33m=\u001b[0m \u001b[1;34m\"He calls this styleAlpaca Kenpo(アルパカ剣法,Arupaka Kenpō?, Viz/Funi: Alpaca Fencing).[4]\"\u001b[0m\u001b[1;33m\u001b[0m\u001b[1;33m\u001b[0m\u001b[0m\n\u001b[1;32m---> 39\u001b[1;33m \u001b[0mcleaned_content\u001b[0m \u001b[1;33m=\u001b[0m \u001b[0mextract_text_with_spacing\u001b[0m\u001b[1;33m(\u001b[0m\u001b[0mcontent\u001b[0m\u001b[1;33m)\u001b[0m\u001b[1;33m\u001b[0m\u001b[1;33m\u001b[0m\u001b[0m\n\u001b[0m\u001b[0;32m     40\u001b[0m \u001b[0mprint\u001b[0m\u001b[1;33m(\u001b[0m\u001b[0mcleaned_content\u001b[0m\u001b[1;33m)\u001b[0m\u001b[1;33m\u001b[0m\u001b[1;33m\u001b[0m\u001b[0m\n",
      "\u001b[1;32m~\\AppData\\Local\\Temp\\ipykernel_8432\\3320754512.py\u001b[0m in \u001b[0;36mextract_text_with_spacing\u001b[1;34m(element)\u001b[0m\n\u001b[0;32m      3\u001b[0m     \u001b[0mlast_text\u001b[0m \u001b[1;33m=\u001b[0m \u001b[1;34m\"\"\u001b[0m\u001b[1;33m\u001b[0m\u001b[1;33m\u001b[0m\u001b[0m\n\u001b[0;32m      4\u001b[0m \u001b[1;33m\u001b[0m\u001b[0m\n\u001b[1;32m----> 5\u001b[1;33m     \u001b[1;32mfor\u001b[0m \u001b[0mchild\u001b[0m \u001b[1;32min\u001b[0m \u001b[0melement\u001b[0m\u001b[1;33m.\u001b[0m\u001b[0mdescendants\u001b[0m\u001b[1;33m:\u001b[0m\u001b[1;33m\u001b[0m\u001b[1;33m\u001b[0m\u001b[0m\n\u001b[0m\u001b[0;32m      6\u001b[0m         \u001b[1;32mif\u001b[0m \u001b[0mchild\u001b[0m\u001b[1;33m.\u001b[0m\u001b[0mname\u001b[0m \u001b[1;33m==\u001b[0m \u001b[1;34m'a'\u001b[0m\u001b[1;33m:\u001b[0m\u001b[1;33m\u001b[0m\u001b[1;33m\u001b[0m\u001b[0m\n\u001b[0;32m      7\u001b[0m             \u001b[1;31m# Extract text from hyperlink with surrounding spaces\u001b[0m\u001b[1;33m\u001b[0m\u001b[1;33m\u001b[0m\u001b[0m\n",
      "\u001b[1;31mAttributeError\u001b[0m: 'str' object has no attribute 'descendants'"
     ]
    }
   ],
   "source": [
    "def extract_text_with_spacing(element):\n",
    "    text = \"\"\n",
    "    last_text = \"\"\n",
    "    \n",
    "    for child in element.descendants:\n",
    "        if child.name == 'a':\n",
    "            # Extract text from hyperlink with surrounding spaces\n",
    "            hyperlink_text = ' ' + child.get_text(strip=True) + ' '\n",
    "            # Add hyperlink text if it's not a duplicate of the last added text\n",
    "            if hyperlink_text.strip() != last_text.strip():\n",
    "                text += hyperlink_text\n",
    "                last_text = hyperlink_text\n",
    "        elif child.string:\n",
    "            # Extract text from non-hyperlink elements\n",
    "            child_text = child.string\n",
    "            # Add child text if it's not a duplicate of the last added text\n",
    "            if child_text.strip() != last_text.strip():\n",
    "                text += child_text\n",
    "                last_text = child_text\n",
    "\n",
    "    # Clean up extra spaces around punctuation and possessives\n",
    "    text = re.sub(r'\\s+([.,!?\\'\":;])', r'\\1', text)  # Remove space before punctuation\n",
    "    text = re.sub(r'([\\'\":;])\\s+', r'\\1 ', text)  # Ensure space after punctuation\n",
    "    text = re.sub(r'(\\w)\\'s', r'\\1\\'s', text)  # Remove space before 's for possessives\n",
    "    text = re.sub(r'\\(\\s+', '(', text)  # Remove space after opening parenthesis\n",
    "    text = re.sub(r'\\s+\\)', ')', text)  # Remove space before closing parenthesis\n",
    "    text = re.sub(r'\\[\\s+', '[', text)  # Remove space after opening square bracket\n",
    "    text = re.sub(r'\\s+\\]', ']', text)  # Remove space before closing square bracket\n",
    "    \n",
    "    # Fix the issue with backslashes before apostrophes\n",
    "    text = text.replace(\"\\\\'\", \"'\")\n",
    "    \n",
    "    # Clean up extra spaces\n",
    "    text = re.sub(r'\\s+', ' ', text).strip()\n",
    "    \n",
    "    return text\n",
    "\n",
    "content_test = \"He calls this styleAlpaca Kenpo(アルパカ剣法,Arupaka Kenpō?, Viz/Funi: Alpaca Fencing).[4]\"\n"
   ]
  },
  {
   "cell_type": "code",
   "execution_count": 147,
   "metadata": {},
   "outputs": [
    {
     "data": {
      "text/plain": [
       "[{'name': 'Appearance',\n",
       "  'content': \"Alpacaman is a tall and tan skinned muscular man whose neck and gray head are those of an alpaca's, increasing his height. He wears an open dark leather jacket with two chains and yellow cape with feather-like frills, as well as gloves that don't match which includes a black glove on the right hand and a brown glove with two metal hoops on the left, as well as a pair of leather briefs with pockets on them and also black shoes. He also wears a red and white vertically striped pant leg on only his left leg and also a calf armor, leaving his right one bare.[1]\",\n",
       "  'children': []},\n",
       " {'name': 'Personality',\n",
       "  'content': 'Alpacaman is very loyal to his crew, as he looked forward to the punishments that Eustass Kid would receive upon being caught. He likes to abuse his position as a guard to spit on the prisoners, and is quick to remind them of the punishments for retaliating against him.[1] Like many other people, he has a unique laughter style:\"Pacacaca\".[2]',\n",
       "  'children': []},\n",
       " {'name': 'Abilities and Powers',\n",
       "  'content': 'As a guard in the Prisoner Mines of Udon, Alpacaman possessed great authority over the prisoners, being capable of doing whatever he wanted to them without the threat of retaliation until the prison was taken over by Luffy and his allies.[1]',\n",
       "  'children': [{'name': 'Devil Fruit',\n",
       "    'content': 'Alpacaman ate an Alpaca SMILE (アルパカのSMILE（スマイル）, Arupaka no Sumairu?), transforming his entire head and neck into those of an alpaca. With this ability, he is capable of spitting saliva projectiles at a high speed.[1]',\n",
       "    'children': [{'name': 'Anime-Only Techniques',\n",
       "      'content': 'Alpaca Fire (アルパカファイヤー, Arupaka Faiyā?): Alpacaman first stands on Madilloman to do combination technique, and then Madilloman begins to spin and Alpacaman starts spiting saliva at a rapid pace while Madilloman fires his pistols.[3]',\n",
       "      'children': []}]},\n",
       "   {'name': 'Weapons',\n",
       "    'content': 'He is shown using two sabers during his fight with Hyogoro and Luffy. He possesses some skill with them, and has a habit of spinning them around to show off and attack. He calls this style Alpaca Kenpo (アルパカ剣法, Arupaka Kenpō?, Viz/Funi:\"Alpaca Fencing\").[4]',\n",
       "    'children': []},\n",
       "   {'name': 'Haki',\n",
       "    'content': 'In the anime, Alpacaman has been shown using Busoshoku Haki when he first used it to coat his face and starts shooting Haki-imbued spits in an attempt to harm Hyogoro.[3]',\n",
       "    'children': []}]},\n",
       " {'name': 'History',\n",
       "  'content': '',\n",
       "  'children': [{'name': 'Wano Country Arc',\n",
       "    'content': \"When news of Eustass Kid's escape from the Prisoner Mines was announced and the guards were demanding for those that knew of any information to come forward, Alpacaman remarked that Kid was stupid for escaping without freeing himself of his Seastone handcuffs. Alpacaman tormented Monkey D. Luffy by spitting on him and questioned if he had helped Kid escape.[1] After many fighters failed to kill Luffy and Hyogoro during the Sumo Inferno, Alpacaman and Madilloman entered the ring. Alpacaman tried to attack Hyogoro, but the latter managed to avoid his attacks thanks to Luffy using Kenbunshoku Haki to guide him. Eventually, Hyogoro defeated Alpacaman using Busoshoku Haki.[4]\",\n",
       "    'children': []}]},\n",
       " {'name': 'Major Battles',\n",
       "  'content': 'Alpacaman and Madilloman vs. Monkey D. Luffy and Hyogoro',\n",
       "  'children': []},\n",
       " {'name': 'Trivia',\n",
       "  'content': 'He is the second character in the series with a Zoan fruit of an alpaca, after the non-canon Alpacacino.',\n",
       "  'children': []},\n",
       " {'name': 'References',\n",
       "  'content': '↑ 1.0 1.1 1.2 1.3 1.4 1.5 1.6 1.7 1.8 One Piece Manga and Anime — Vol. 93 Chapter 934 (p. 12) and Episode 929, Alpacaman is introduced. ↑ One Piece Manga — Vol. 93 Chapter 939 (p. 10). ↑ 3.0 3.1 One Piece Anime — Episode 935. ↑ 4.0 4.1 One Piece Manga and Anime — Vol. 93 Chapter 939 (p. 10-17) and Episodes 935 – 936.',\n",
       "  'children': []},\n",
       " {'name': 'Site Navigation', 'content': '', 'children': []}]"
      ]
     },
     "execution_count": 147,
     "metadata": {},
     "output_type": "execute_result"
    }
   ],
   "source": [
    "def enrich_toc(toc_data, soup):\n",
    "    content_data = []\n",
    "    for item in toc_data: \n",
    "        \n",
    "        #TODO: Skip Site navigation or clean after ? Implemented for now, but need to decide. Maybe better to skip if need to add tables in the future (site nav data is in tables)\n",
    "        if item['name'].lower() == 'site navigation':\n",
    "            continue\n",
    "        \n",
    "        content_id = item['name'].replace(\" \", \"_\")\n",
    "        heading = soup.find(id = content_id).parent\n",
    "        content_text = \"\"\n",
    "        \n",
    "        def process_sibling(sibling):\n",
    "            nonlocal content_text\n",
    "            # Next section is a paragraph\n",
    "            if sibling.name == 'p':\n",
    "                content_text += extract_text_with_spacing(sibling) + \" \"\n",
    "            # Next section is an unordered or ordered list\n",
    "            elif sibling.name in ['ul', 'ol']:\n",
    "                for li in sibling.find_all('li'):\n",
    "                    content_text += extract_text_with_spacing(li) + \" \"\n",
    "            # Edge case if next section is a div, access it then run the above\n",
    "            elif sibling.name == 'div':\n",
    "                for sub_sibling in sibling.children:\n",
    "                    process_sibling(sub_sibling)\n",
    "        \n",
    "        for sibling in heading.find_next_siblings():\n",
    "            # Next section is a new heading, i.e. current is finished or empty\n",
    "            if sibling.name in ['h2', 'h3', 'h4', 'h5', 'h6']:\n",
    "                break\n",
    "            process_sibling(sibling)\n",
    "            \n",
    "        content_entry = {\n",
    "            'name': item['name'],\n",
    "            'content': content_text.strip(),\n",
    "            'children': enrich_toc((item['children'] if item['children'] else []), soup) #recursive bs\n",
    "        }\n",
    "        \n",
    "        content_data.append(content_entry)\n",
    "            \n",
    "    return content_data\n",
    "\n",
    "enrich_toc(toc_data, soup)"
   ]
  },
  {
   "cell_type": "code",
   "execution_count": 47,
   "metadata": {},
   "outputs": [
    {
     "data": {
      "text/plain": [
       "{'name': 'Devil Fruit',\n",
       " 'children': [{'name': 'Anime-Only Techniques', 'children': []}]}"
      ]
     },
     "execution_count": 47,
     "metadata": {},
     "output_type": "execute_result"
    }
   ],
   "source": [
    "def enrich_toc_to_data()"
   ]
  }
 ],
 "metadata": {
  "kernelspec": {
   "display_name": "pypr",
   "language": "python",
   "name": "pypr"
  },
  "language_info": {
   "codemirror_mode": {
    "name": "ipython",
    "version": 3
   },
   "file_extension": ".py",
   "mimetype": "text/x-python",
   "name": "python",
   "nbconvert_exporter": "python",
   "pygments_lexer": "ipython3",
   "version": "3.9.13"
  }
 },
 "nbformat": 4,
 "nbformat_minor": 2
}
